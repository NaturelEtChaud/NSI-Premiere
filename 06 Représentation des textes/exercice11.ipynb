{
 "cells": [
  {
   "cell_type": "markdown",
   "metadata": {},
   "source": [
    " # Chapitre 6 - Représentation des textes"
   ]
  },
  {
   "cell_type": "markdown",
   "metadata": {},
   "source": [
    "**Exercice 11**\n",
    "\n",
    "L'exercice suivant utilise le fichier `liste_francais_source_freelang.txt` qui contient presque tous les mots utilisés en français.\n",
    "\n",
    "1. Écrire un programme qui compte le nombre de mots présent dans cette liste. Vous devriez trouver 22 740 mots."
   ]
  },
  {
   "cell_type": "code",
   "execution_count": 5,
   "metadata": {},
   "outputs": [],
   "source": [
    "def nb_mots(fichier):\n",
    "    f = open(\"Documents/\"+fichier, 'r')\n",
    "    #lecture est une chaine de caractères\n",
    "    lecture = f.read()\n",
    "    #on ferme le fichier\n",
    "    f.close()\n",
    "    \n",
    "    compteur = 0\n",
    "    #on compte le nombre de sauts de ligne\n",
    "    for car in lecture :\n",
    "        if car == '\\n':\n",
    "            compteur = compteur + 1\n",
    "    #il y a un mot de plus que de sauts de ligne\n",
    "    return compteur + 1"
   ]
  },
  {
   "cell_type": "code",
   "execution_count": 6,
   "metadata": {},
   "outputs": [
    {
     "data": {
      "text/plain": [
       "22741"
      ]
     },
     "execution_count": 6,
     "metadata": {},
     "output_type": "execute_result"
    }
   ],
   "source": [
    "nb_mots('liste_francais_source_freelang.txt')"
   ]
  },
  {
   "cell_type": "markdown",
   "metadata": {},
   "source": [
    "2. (a) La lettre `'e'` est la lettre la plus répandue dans la langue française. Calculer le nombre de `'e'` présent dans cette liste."
   ]
  },
  {
   "cell_type": "code",
   "execution_count": 7,
   "metadata": {},
   "outputs": [],
   "source": [
    "def occurence(fichier,lettre):\n",
    "    f = open(\"Documents/\"+fichier, 'r')\n",
    "    #lecture est une chaine de caractères\n",
    "    lecture = f.read()\n",
    "    #on ferme le fichier\n",
    "    f.close()\n",
    "    \n",
    "    #lecture est une chaine de caractères que l'on convertit en minuscules\n",
    "    #pour gérer la diffférence entre les 'e' et les 'E'\n",
    "    lecture = lecture.lower()\n",
    "    \n",
    "    compteur = 0\n",
    "    #on compte le nombre de sauts de ligne\n",
    "    for car in lecture :\n",
    "        if car == lettre:\n",
    "            compteur = compteur + 1\n",
    "    return compteur"
   ]
  },
  {
   "cell_type": "code",
   "execution_count": 8,
   "metadata": {},
   "outputs": [
    {
     "data": {
      "text/plain": [
       "22171"
      ]
     },
     "execution_count": 8,
     "metadata": {},
     "output_type": "execute_result"
    }
   ],
   "source": [
    "occurence('liste_francais_source_freelang.txt','e')"
   ]
  },
  {
   "cell_type": "markdown",
   "metadata": {},
   "source": [
    "2.(b) Donner une estimation de la fréquence d’apparition de la lettre `'e'` dans la langue française à partir de cette liste. <br />\n",
    "D'après wikipédia, la fréquence de 'e' dans la langue française est d'envison 12,10%. <br/>\n",
    "https://fr.wikipedia.org/wiki/Fr%C3%A9quence_d%27apparition_des_lettres_en_fran%C3%A7ais"
   ]
  },
  {
   "cell_type": "code",
   "execution_count": 9,
   "metadata": {},
   "outputs": [],
   "source": [
    "def frequence(fichier,lettre):    \n",
    "    f = open(\"Documents/\"+fichier, 'r')\n",
    "    lecture = f.read()\n",
    "    f.close()\n",
    "    \n",
    "    #lecture est une chaine de caractères que l'on convertit en minuscules\n",
    "    lecture = lecture.lower()\n",
    "    \n",
    "    compteur_lettre = 0\n",
    "    compteur_car = 0\n",
    "    #on compte le nombre de sauts de ligne\n",
    "    for car in lecture :\n",
    "        if car == lettre:\n",
    "            compteur_lettre = compteur_lettre + 1\n",
    "        if car != '\\n':\n",
    "            compteur_car = compteur_car + 1\n",
    "    return round(compteur_lettre/compteur_car*100,2)"
   ]
  },
  {
   "cell_type": "code",
   "execution_count": 10,
   "metadata": {},
   "outputs": [
    {
     "name": "stdout",
     "output_type": "stream",
     "text": [
      "12.13 %\n"
     ]
    }
   ],
   "source": [
    "freq = frequence('liste_francais_source_freelang.txt','e')\n",
    "print(freq,'%')"
   ]
  },
  {
   "cell_type": "markdown",
   "metadata": {},
   "source": [
    "3.(c) Faire la même chose pour toutes les autres lettres (non accentués) de l’alphabet puis retourner la réponse dans un fichier texte `rapport.txt`."
   ]
  },
  {
   "cell_type": "code",
   "execution_count": 11,
   "metadata": {},
   "outputs": [],
   "source": [
    "def rapport(fichier):\n",
    "    #création du tableau contenant toutes les lettres de l'alphabet en minuscule\n",
    "    #code ascii de 97 à 122\n",
    "    alpha = [chr(i) for i in range(97,123)]\n",
    "    \n",
    "    #on va stocker les pourcentages dans un tableau\n",
    "    pourcent = [0]*26\n",
    "    #on utilise la fonction frequence pour toutes les lettres\n",
    "    for i in range(26):\n",
    "        pourcent[i] = frequence('liste_francais_source_freelang.txt',alpha[i])\n",
    "    return pourcent"
   ]
  },
  {
   "cell_type": "code",
   "execution_count": 12,
   "metadata": {},
   "outputs": [
    {
     "data": {
      "text/plain": [
       "[7.76,\n",
       " 1.56,\n",
       " 4.13,\n",
       " 2.4,\n",
       " 12.13,\n",
       " 1.4,\n",
       " 1.71,\n",
       " 1.21,\n",
       " 8.71,\n",
       " 0.24,\n",
       " 0.11,\n",
       " 4.31,\n",
       " 3.09,\n",
       " 7.49,\n",
       " 5.83,\n",
       " 2.88,\n",
       " 0.62,\n",
       " 8.75,\n",
       " 6.83,\n",
       " 7.34,\n",
       " 4.45,\n",
       " 1.39,\n",
       " 0.04,\n",
       " 0.43,\n",
       " 0.34,\n",
       " 0.1]"
      ]
     },
     "execution_count": 12,
     "metadata": {},
     "output_type": "execute_result"
    }
   ],
   "source": [
    "rapport('liste_francais_source_freelang.txt')"
   ]
  },
  {
   "cell_type": "markdown",
   "metadata": {},
   "source": [
    "\n",
    "Dans une version différente avec création d'un fichier pour récupérer les résultats de manière définitive."
   ]
  },
  {
   "cell_type": "code",
   "execution_count": 9,
   "metadata": {},
   "outputs": [],
   "source": [
    "def rapport2(source,sortie):\n",
    "    #création du tableau contenant toutes les lettres de l'alphabet en minuscule\n",
    "    #code ascii de 97 à 122\n",
    "    alpha = [chr(i) for i in range(97,123)]\n",
    "    \n",
    "    #on va stocker les pourcentages dans un tableau\n",
    "    pourcent = [0]*26\n",
    "    \n",
    "    #on utilise la fonction frequence pour toutes les lettres\n",
    "    for i in range(26):\n",
    "        pourcent[i] = frequence(source,alpha[i])\n",
    "    \n",
    "    #création du fichier pour stocker le rapport\n",
    "    f = open(sortie,'w')\n",
    "    for i in range(26):\n",
    "        f.write(\"la lettre '\"+alpha[i]+\"' a pour fréquence d'apprition \"+str(pourcent[i])+\" %.\\n\")\n",
    "    f.close()\n",
    "    return pourcent"
   ]
  },
  {
   "cell_type": "code",
   "execution_count": 10,
   "metadata": {},
   "outputs": [
    {
     "data": {
      "text/plain": [
       "[7.76, 1.56, 4.13, 2.4, 12.13, 1.4, 1.71, 1.21, 8.71, 0.24, 0.11, 4.31, 3.09, 7.49, 5.83, 2.88, 0.62, 8.75, 6.83, 7.34, 4.45, 1.39, 0.04, 0.43, 0.34, 0.1]"
      ]
     },
     "execution_count": 10,
     "metadata": {},
     "output_type": "execute_result"
    }
   ],
   "source": [
    "rapport2('liste_francais_source_freelang.txt','rapport_dico.txt')"
   ]
  },
  {
   "cell_type": "markdown",
   "metadata": {},
   "source": [
    "Et si on faisait la même chose en étudiant le premier tome des misérables ????"
   ]
  },
  {
   "cell_type": "code",
   "execution_count": 12,
   "metadata": {},
   "outputs": [
    {
     "data": {
      "text/plain": [
       "[6.47, 0.79, 2.43, 2.75, 11.69, 0.94, 0.74, 0.85, 6.09, 0.45, 0.02, 4.63, 2.38, 5.38, 4.12, 2.08, 1.0, 4.97, 5.79, 6.07, 4.91, 1.55, 0.04, 0.32, 0.31, 0.15]"
      ]
     },
     "execution_count": 12,
     "metadata": {},
     "output_type": "execute_result"
    }
   ],
   "source": [
    "rapport2('Les_miserables_tome1.txt','rapport_miser.txt')"
   ]
  }
 ],
 "metadata": {
  "kernelspec": {
   "display_name": "Python 3 (ipykernel)",
   "language": "python",
   "name": "python3"
  },
  "language_info": {
   "codemirror_mode": {
    "name": "ipython",
    "version": 3
   },
   "file_extension": ".py",
   "mimetype": "text/x-python",
   "name": "python",
   "nbconvert_exporter": "python",
   "pygments_lexer": "ipython3",
   "version": "3.7.12"
  }
 },
 "nbformat": 4,
 "nbformat_minor": 4
}
