{
 "cells": [
  {
   "cell_type": "markdown",
   "metadata": {},
   "source": [
    "# TP2 - Morellet le retour"
   ]
  },
  {
   "cell_type": "markdown",
   "metadata": {},
   "source": [
    "*1. Première étape :*\n",
    "======\n",
    "\n",
    "Coder une fonction qui renvoie `True` si le chiffre entré en argument est un nombre pair. `False`sinon. "
   ]
  },
  {
   "cell_type": "code",
   "execution_count": null,
   "metadata": {},
   "outputs": [],
   "source": [
    "def est_pair(chiffre):\n",
    "    if chiffre%2 == 0:\n",
    "        return True\n",
    "    else :\n",
    "        return False"
   ]
  },
  {
   "cell_type": "markdown",
   "metadata": {},
   "source": [
    "Un petit test pour vérifier"
   ]
  },
  {
   "cell_type": "code",
   "execution_count": null,
   "metadata": {},
   "outputs": [],
   "source": [
    "est_pair(5)"
   ]
  },
  {
   "cell_type": "code",
   "execution_count": null,
   "metadata": {},
   "outputs": [],
   "source": [
    "est_pair(8)"
   ]
  },
  {
   "cell_type": "markdown",
   "metadata": {},
   "source": [
    "*Remarque :*\n",
    "\n",
    "On aurait pu écrire un code plus court mais parfaitement équivalent :"
   ]
  },
  {
   "cell_type": "code",
   "execution_count": null,
   "metadata": {},
   "outputs": [],
   "source": [
    "def est_pair2(chiffre):\n",
    "    return chiffre%2 == 0"
   ]
  },
  {
   "cell_type": "markdown",
   "metadata": {},
   "source": [
    "*2. Deuxième étape*\n",
    "=============\n",
    "\n",
    "Coder une fonction qui annonce si la $i$-ème décimale de $\\pi$ est paire ou impaire.\n",
    "\n",
    "Pour commencer, il faut récupérer ses décimales. On peut les avoir par exemple à l'adresse suivante :\n",
    "\n",
    "https://pi2e.ch/blog/2017/03/10/pi-digits-download/#download"
   ]
  },
  {
   "cell_type": "code",
   "execution_count": null,
   "metadata": {},
   "outputs": [],
   "source": [
    "#ouverture du fichier\n",
    "f = open('pi_dec_1m.txt','r')\n",
    "#récupération des données du fichier\n",
    "#attention dans ce fichier on doit supprimer les 2 premiers caractères '3.' \n",
    "f.read(2)\n",
    "decimale = f.read()\n",
    "f.close()\n",
    "\n",
    "def dec_pi_est_paire(texte,i):\n",
    "    #attention la ième décimale est le caractère n° i-1\n",
    "    return est_pair(int(texte[i-1]))"
   ]
  },
  {
   "cell_type": "markdown",
   "metadata": {},
   "source": [
    "On peut tester la fonction, par exemple pour $i=1$, la décimale est `1` donc impaire. Pour $i=2$ la décimale est `4` donc paire."
   ]
  },
  {
   "cell_type": "code",
   "execution_count": null,
   "metadata": {},
   "outputs": [],
   "source": [
    "dec_pi_est_paire(decimale,1)"
   ]
  },
  {
   "cell_type": "code",
   "execution_count": null,
   "metadata": {},
   "outputs": [],
   "source": [
    "dec_pi_est_paire(decimale,2)"
   ]
  },
  {
   "cell_type": "markdown",
   "metadata": {},
   "source": [
    "*3. Troisième étape*\n",
    "============\n",
    "\n",
    "Coder une fonction qui crée une image au format RVB, de taille 100 par 100.\n",
    "\n",
    "On ne va pas encore répondre exactement à la demande, les pixels vont être en blanc ou en noir de manière aléatoire, mais c'est un bon début...\n"
   ]
  },
  {
   "cell_type": "code",
   "execution_count": null,
   "metadata": {},
   "outputs": [],
   "source": [
    "from PIL import Image\n",
    "from random import randint            #inutile pour la suite\n",
    "\n",
    "def carre_hasard(nom):\n",
    "    monoeuvre = Image.new(\"RGB\", (100,100), \"white\")\n",
    "    \n",
    "    for x in range(100):\n",
    "        for y in range(100):\n",
    "            #on crée un chiffre au hasard\n",
    "            chiffre = randint(0,9)\n",
    "            #parité ?\n",
    "            if not est_pair(chiffre):\n",
    "                #impair\n",
    "                monoeuvre.putpixel((x,y),(0,0,0))\n",
    "            #sinon on ne fait rien car le support est blanc d'origine\n",
    "\n",
    "    #on affiche l'image\n",
    "    monoeuvre.show()\n",
    "\n",
    "    #on enregistre l'image\n",
    "    monoeuvre.save(nom+\".png\")"
   ]
  },
  {
   "cell_type": "markdown",
   "metadata": {},
   "source": [
    "On teste notre programme"
   ]
  },
  {
   "cell_type": "code",
   "execution_count": null,
   "metadata": {},
   "outputs": [],
   "source": [
    "carre_hasard(\"essais_1\")"
   ]
  },
  {
   "cell_type": "markdown",
   "metadata": {},
   "source": [
    "Le résultat est le suivant :\n",
    "\n",
    "\n",
    "![](essais_1.png)"
   ]
  },
  {
   "cell_type": "markdown",
   "metadata": {},
   "source": [
    "*4. Quatrième et dernière étape*\n",
    "=============\n",
    "\n",
    "On va cette fois-ci placer les pixels blanc ou noir en fonction de la parité des décimales de $\\pi$."
   ]
  },
  {
   "cell_type": "code",
   "execution_count": null,
   "metadata": {},
   "outputs": [],
   "source": [
    "def carre_morellet(decimale, nom):\n",
    "    monoeuvre = Image.new(\"RGB\", (100,100), \"white\")\n",
    "    \n",
    "    for x in range(100):\n",
    "        for y in range(100):\n",
    "            #on détermine quelle est la i-ème décimale de pi en fonction de\n",
    "            #x le numéro de la colonne et\n",
    "            #y le numéro de la ligne\n",
    "            i = x*100+y\n",
    "            #parité ?\n",
    "            if not dec_pi_est_paire(decimale,i):\n",
    "                #impair\n",
    "                monoeuvre.putpixel((x,y),(0,0,0))\n",
    "            #sinon on ne fait rien car le support est blanc d'origine\n",
    "\n",
    "    #on affiche l'image\n",
    "    monoeuvre.show()\n",
    "\n",
    "    #on enregistre l'image\n",
    "    monoeuvre.save(nom+\".png\")"
   ]
  },
  {
   "cell_type": "markdown",
   "metadata": {},
   "source": [
    "On peut enfin obtenir notre carré à la façon de Morellet."
   ]
  },
  {
   "cell_type": "code",
   "execution_count": null,
   "metadata": {},
   "outputs": [],
   "source": [
    "carre_morellet(decimale, \"essais_reussie\")"
   ]
  },
  {
   "cell_type": "markdown",
   "metadata": {},
   "source": [
    "Et voici le résultat :\n",
    "\n",
    "![](essais_reussie.png)"
   ]
  },
  {
   "cell_type": "markdown",
   "metadata": {},
   "source": [
    "*5. Pour ceux qui souhaite avoir le code d'un seul tenant, le voici*\n",
    "============="
   ]
  },
  {
   "cell_type": "code",
   "execution_count": null,
   "metadata": {},
   "outputs": [],
   "source": [
    "from PIL import Image\n",
    "\n",
    "#ouverture du fichier\n",
    "f = open('pi_dec_1m.txt','r')\n",
    "#récupértion des données du fichier\n",
    "#attention dans ce fichier on doit supprimer les 2 premiers caractères '3.' \n",
    "f.read(2)\n",
    "decimale = f.read()\n",
    "f.close()\n",
    "\n",
    "\n",
    "def est_pair(chiffre):\n",
    "    return chiffre%2 == 0\n",
    "\n",
    "\n",
    "def dec_pi_est_paire(texte,i):\n",
    "    #attention la ième décimale est le caractère n° i-1\n",
    "    return est_pair(int(texte[i-1]))\n",
    "\n",
    "\n",
    "def carre_morellet(decimale, nom):\n",
    "    monoeuvre = Image.new(\"RGB\", (100,100), \"white\")\n",
    "    \n",
    "    for x in range(100):\n",
    "        for y in range(100):\n",
    "            #on détermine quelle est la i-ème décimale de pi en fonction de\n",
    "            #x le numéro de la colonne et\n",
    "            #y le numéro de la ligne\n",
    "            i = x*100+y\n",
    "            #parité ?\n",
    "            if not dec_pi_est_paire(decimale,i):\n",
    "                #impair\n",
    "                monoeuvre.putpixel((x,y),(0,0,0))\n",
    "            #sinon on ne fait rien car le support est blanc d'origine\n",
    "\n",
    "    #on affiche l'image\n",
    "    monoeuvre.show()\n",
    "\n",
    "    #on enregistre l'image\n",
    "    monoeuvre.save(nom+\".png\")"
   ]
  }
 ],
 "metadata": {
  "kernelspec": {
   "display_name": "Python 3",
   "language": "python",
   "name": "python3"
  },
  "language_info": {
   "codemirror_mode": {
    "name": "ipython",
    "version": 3
   },
   "file_extension": ".py",
   "mimetype": "text/x-python",
   "name": "python",
   "nbconvert_exporter": "python",
   "pygments_lexer": "ipython3",
   "version": "3.7.3"
  }
 },
 "nbformat": 4,
 "nbformat_minor": 2
}
